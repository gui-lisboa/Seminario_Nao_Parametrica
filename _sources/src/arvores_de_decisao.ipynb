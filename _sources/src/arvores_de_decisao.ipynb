{
 "cells": [
  {
   "cell_type": "markdown",
   "metadata": {},
   "source": [
    "# Árvores de Decisão"
   ]
  },
  {
   "cell_type": "markdown",
   "metadata": {},
   "source": [
    "## Definição\n",
    "\n",
    "Diagrama que representa uma sequência de decisões binárias com o objetivo de obter uma resposta.\n",
    "\n",
    "**Exemplo**: \n",
    "\n",
    "TODO"
   ]
  },
  {
   "cell_type": "markdown",
   "metadata": {},
   "source": [
    "# Sequências de decisões\n",
    "\n",
    "Para decidir qual atributo deve ser usado como critério de decisão em um nó, devemos mensurar o grau de impureza de Gini.\n",
    "\n",
    "$$\n",
    "    Gini(D) = 1 - \\sum_{i=1}^{k}p_{i}^{2}\n",
    "$$"
   ]
  },
  {
   "cell_type": "code",
   "execution_count": 7,
   "metadata": {},
   "outputs": [],
   "source": [
    "import numpy as np\n",
    "import pandas as pd\n",
    "\n",
    "\n",
    "def impureza_gini(respostas: pd.Series) -> np.number:\n",
    "    numero_observacoes = respostas.sum()\n",
    "    p_sum = np.square(respostas / numero_observacoes).sum()\n",
    "    return 1 - p_sum\n"
   ]
  },
  {
   "cell_type": "markdown",
   "metadata": {},
   "source": [
    "O atributo escolhido deve ser aquele com menor índice de impureza, ou seja, aquele que melhor sapara a resposta. Ao dividr o fluxo usando uma variável qualquer $A$, é possível que o número de observações que sejam levadas aos subgrupos $D_1$ e $D_2$ seja diferente. Nestes casos, devemos aplicar um peso no índice de impureza, onde $n$ é o total de observações sob a variável $A$ e $n_1$ e $n_2$ são o número de observações que serão colocadas nos subgrupos $D_1$ e $D_2$"
   ]
  },
  {
   "cell_type": "markdown",
   "metadata": {},
   "source": [
    "$$\n",
    "    Gini_{A}(D) = \\frac{n_1}{n}Gini(D_1) + \\frac{n_2}{n}Gini(D_2)\n",
    "$$"
   ]
  },
  {
   "cell_type": "markdown",
   "metadata": {},
   "source": [
    "\n",
    "\n",
    "Ganho de Gini\n",
    "\n",
    "$$\n",
    "    \\Delta Gini(A) = Gini(D) - Gini_{A}(D)\n",
    "$$"
   ]
  },
  {
   "cell_type": "markdown",
   "metadata": {},
   "source": [
    "### Caso nominal\n",
    "\n",
    "### Caso contínuo\n",
    "\n",
    "### Caso ordinal"
   ]
  },
  {
   "cell_type": "markdown",
   "metadata": {},
   "source": [
    "# Critério de parada\n",
    "\n",
    "qnd não continuar o ramo e definir uma resposta (folha)\n",
    "\n",
    "Gini negativo"
   ]
  }
 ],
 "metadata": {
  "interpreter": {
   "hash": "7f07fbae85b21c785c06707f6a0e0b9c0a87e1a0c123e67188e759f395750e7f"
  },
  "kernelspec": {
   "display_name": "Python 3.10.2 ('venv': venv)",
   "language": "python",
   "name": "python3"
  },
  "language_info": {
   "codemirror_mode": {
    "name": "ipython",
    "version": 3
   },
   "file_extension": ".py",
   "mimetype": "text/x-python",
   "name": "python",
   "nbconvert_exporter": "python",
   "pygments_lexer": "ipython3",
   "version": "3.10.2"
  },
  "orig_nbformat": 4
 },
 "nbformat": 4,
 "nbformat_minor": 2
}
